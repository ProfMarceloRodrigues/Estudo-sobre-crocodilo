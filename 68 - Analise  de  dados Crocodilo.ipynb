# Bibliotecas
import pandas as pd
import numpy as np
import datetime

url = "https://raw.githubusercontent.com/ProfMarceloRodrigues/Estudo-sobre-crocodilo/main/crocodile_dataset.csv"
tabela = pd.read_csv(url)
display(tabela)

# passo 2:padranizar  as  colunas
tabela.columns.str.strip().str.lower()

display(tabela)


# passo  3-  remover  duplicatas:
tabela= tabela.drop_duplicates()
display(tabela)

# passo 4  - remover  colunas  vazias
tabela = tabela.dropna(axis=1, how="all")

display(tabela)

tabela.info()


# Passo 5 - Tratar os tipos de dados
tabela.rename(columns=lambda x: x.strip(), inplace=True)
tabela["Date of Observation"] = pd.to_datetime(tabela["Date of Observation"], errors="coerce")
display(tabela)
import matplotlib.pyplot as plt

# Agrupar por sexo e calcular a média do peso
media_peso_por_sexo = tabela.groupby('Sex')['Observed Weight (kg)'].mean()

plt.figure(figsize=(10, 4))
plt.plot(media_peso_por_sexo.index, media_peso_por_sexo.values, label='NYA', color='g', ls='--', lw=2)
plt.legend(loc=2, fontsize=12)
plt.ylabel('Peso Médio Observado (kg)')
plt.xlabel('Sexo')
plt.title('Peso médio observado por sexo')

plt.show()
